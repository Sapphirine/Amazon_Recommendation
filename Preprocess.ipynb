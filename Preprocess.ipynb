{
 "cells": [
  {
   "cell_type": "code",
   "execution_count": 7,
   "metadata": {},
   "outputs": [],
   "source": [
    "import findspark\n",
    "findspark.init('/Users/lmh/Programs/spark-2.2.0-bin-hadoop2.7')\n",
    "from pyspark.sql import SparkSession \n",
    "from pyspark.sql import Row\n",
    "from pyspark.sql import SQLContext\n",
    "from pyspark.sql.functions import *\n",
    "from pyspark.ml.recommendation import ALS\n",
    "from pyspark.ml.evaluation import RegressionEvaluator\n",
    "from matplotlib import pyplot as plt\n",
    "spark = SparkSession.builder.getOrCreate()\n",
    "sc = spark.sparkContext\n",
    "sqlContext = SQLContext(sc)"
   ]
  },
  {
   "cell_type": "code",
   "execution_count": 8,
   "metadata": {},
   "outputs": [
    {
     "data": {
      "text/plain": [
       "[[u'1412', u'B00004YVAJ', u'5.0', u'15010', u'A35UHVTCH8150C'],\n",
       " [u'1412', u'B00004YVAJ', u'5.0', u'20982', u'A2Q7C95JCR0HV7'],\n",
       " [u'1412', u'B00004YVAJ', u'3.0', u'15465', u'A1ET2OJ15PESUA'],\n",
       " [u'1412', u'B00004YVAJ', u'5.0', u'21070', u'A2PVOGZSGBKCCN'],\n",
       " [u'1412', u'B00004YVAJ', u'5.0', u'23138', u'APMAMP7QL4JJ7'],\n",
       " [u'1412', u'B00004YVAJ', u'5.0', u'25468', u'A3CZ2AEU7ONYC8'],\n",
       " [u'1412', u'B00004YVAJ', u'4.0', u'3096', u'A1MDHR1E6FH490'],\n",
       " [u'1412', u'B00004YVAJ', u'5.0', u'33574', u'AR19W42BFDGJX'],\n",
       " [u'1412', u'B00004YVAJ', u'5.0', u'5476', u'AAA4HSDSUM369'],\n",
       " [u'1412', u'B00004YVAJ', u'5.0', u'16778', u'A2UHQPRBNDR87J']]"
      ]
     },
     "execution_count": 8,
     "metadata": {},
     "output_type": "execute_result"
    }
   ],
   "source": [
    "rdd = sc.textFile('./csv/ratings_Sports_withID.csv')\n",
    "rdd = rdd.map(lambda x: x.split(','))\n",
    "rdd = rdd.filter(lambda x: int(x[3]) < 40000)\n",
    "rdd = rdd.filter(lambda x: int(x[0]) < 8000)\n",
    "rdd.take(10)"
   ]
  },
  {
   "cell_type": "code",
   "execution_count": 9,
   "metadata": {},
   "outputs": [
    {
     "name": "stdout",
     "output_type": "stream",
     "text": [
      "1156\n"
     ]
    }
   ],
   "source": [
    "user = rdd.map(lambda x: x[3])\n",
    "num_user = user.distinct().count()\n",
    "print num_user"
   ]
  },
  {
   "cell_type": "code",
   "execution_count": 10,
   "metadata": {},
   "outputs": [
    {
     "name": "stdout",
     "output_type": "stream",
     "text": [
      "695\n"
     ]
    }
   ],
   "source": [
    "item = rdd.map(lambda x: x[0])\n",
    "num_item = item.distinct().count()\n",
    "print num_item"
   ]
  },
  {
   "cell_type": "code",
   "execution_count": 11,
   "metadata": {},
   "outputs": [],
   "source": [
    "def mergedic(x, y):\n",
    "    x.update(y)\n",
    "    return x"
   ]
  },
  {
   "cell_type": "code",
   "execution_count": 13,
   "metadata": {},
   "outputs": [],
   "source": [
    "userd = user.distinct().zipWithIndex()\n",
    "userd = userd.map(lambda x: {x[0]: x[1] + 1})\n",
    "user_dic = userd.reduce(mergedic)"
   ]
  },
  {
   "cell_type": "code",
   "execution_count": 14,
   "metadata": {},
   "outputs": [],
   "source": [
    "itemd = item.distinct().zipWithIndex()\n",
    "itemd = itemd.map(lambda x: {x[0]: x[1] + 1})\n",
    "item_dic = itemd.reduce(mergedic)"
   ]
  },
  {
   "cell_type": "code",
   "execution_count": 15,
   "metadata": {},
   "outputs": [],
   "source": [
    "cb = rdd.map(lambda (item, itemname, rating, user, username): [username, itemname, rating, user_dic[user], item_dic[item]])"
   ]
  },
  {
   "cell_type": "code",
   "execution_count": 16,
   "metadata": {},
   "outputs": [],
   "source": [
    "cbrdd = cb.map(lambda x: Row(userid = int(x[3]),\n",
    "                             rating = float(x[2]),                            \n",
    "                             itemid = int(x[4])))"
   ]
  },
  {
   "cell_type": "code",
   "execution_count": 17,
   "metadata": {},
   "outputs": [],
   "source": [
    "df = spark.createDataFrame(cbrdd)"
   ]
  },
  {
   "cell_type": "code",
   "execution_count": 18,
   "metadata": {},
   "outputs": [],
   "source": [
    "tdf = df.groupby('userid').agg({'rating': 'mean'})\n",
    "df = tdf.join(df, tdf.userid == df.userid).drop(tdf.userid)\n",
    "df = df.withColumnRenamed('avg(rating)', 'usermean')"
   ]
  },
  {
   "cell_type": "code",
   "execution_count": 19,
   "metadata": {},
   "outputs": [],
   "source": [
    "tdf = df.groupby('itemid').agg({'rating': 'mean'})\n",
    "df = tdf.join(df, tdf.itemid == df.itemid).drop(tdf.itemid)\n",
    "df = df.withColumnRenamed('avg(rating)', 'itemmean')"
   ]
  },
  {
   "cell_type": "code",
   "execution_count": 22,
   "metadata": {},
   "outputs": [],
   "source": [
    "df.repartition(1).write.csv('tempcsv', sep = ',')"
   ]
  },
  {
   "cell_type": "code",
   "execution_count": 23,
   "metadata": {},
   "outputs": [
    {
     "name": "stdout",
     "output_type": "stream",
     "text": [
      "+-----------------+--------+------+------+------+\n",
      "|         itemmean|usermean|itemid|rating|userid|\n",
      "+-----------------+--------+------+------+------+\n",
      "|              5.0|     5.0|    26|   5.0|   584|\n",
      "|              1.0|     1.0|    29|   1.0|   986|\n",
      "|              5.0|     5.0|   474|   5.0|   181|\n",
      "|4.476190476190476|     4.0|    65|   4.0|  1038|\n",
      "|4.476190476190476|     5.0|    65|   5.0|   909|\n",
      "|4.476190476190476|     5.0|    65|   5.0|   271|\n",
      "|4.476190476190476|     3.0|    65|   3.0|   865|\n",
      "|4.476190476190476|     5.0|    65|   5.0|   901|\n",
      "|4.476190476190476|     5.0|    65|   5.0|   250|\n",
      "|4.476190476190476|     5.0|    65|   5.0|  1155|\n",
      "|4.476190476190476|     4.0|    65|   4.0|     3|\n",
      "|4.476190476190476|     4.0|    65|   4.0|   478|\n",
      "|4.476190476190476|     5.0|    65|   5.0|   164|\n",
      "|4.476190476190476|     5.0|    65|   5.0|   791|\n",
      "|4.476190476190476|     5.0|    65|   5.0|   626|\n",
      "|4.476190476190476|     5.0|    65|   5.0|   393|\n",
      "|4.476190476190476|     5.0|    65|   5.0|   291|\n",
      "|4.476190476190476|     5.0|    65|   5.0|   284|\n",
      "|4.476190476190476|     4.0|    65|   4.0|   354|\n",
      "|4.476190476190476|     5.0|    65|   5.0|   798|\n",
      "+-----------------+--------+------+------+------+\n",
      "only showing top 20 rows\n",
      "\n"
     ]
    }
   ],
   "source": [
    "df.show()"
   ]
  },
  {
   "cell_type": "code",
   "execution_count": null,
   "metadata": {},
   "outputs": [],
   "source": []
  }
 ],
 "metadata": {
  "kernelspec": {
   "display_name": "Python 2",
   "language": "python",
   "name": "python2"
  },
  "language_info": {
   "codemirror_mode": {
    "name": "ipython",
    "version": 2
   },
   "file_extension": ".py",
   "mimetype": "text/x-python",
   "name": "python",
   "nbconvert_exporter": "python",
   "pygments_lexer": "ipython2",
   "version": "2.7.14"
  }
 },
 "nbformat": 4,
 "nbformat_minor": 2
}
